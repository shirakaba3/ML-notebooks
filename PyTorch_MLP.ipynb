{
  "nbformat": 4,
  "nbformat_minor": 0,
  "metadata": {
    "colab": {
      "name": "PyTorch_MLP.ipynb",
      "version": "0.3.2",
      "views": {},
      "default_view": {},
      "provenance": []
    },
    "kernelspec": {
      "name": "python3",
      "display_name": "Python 3"
    },
    "accelerator": "GPU"
  },
  "cells": [
    {
      "metadata": {
        "id": "tPozhZH2LBhH",
        "colab_type": "text"
      },
      "cell_type": "markdown",
      "source": [
        "# PyTorchでMLP\n",
        "\n"
      ]
    },
    {
      "metadata": {
        "id": "_TbNSy-rD8sC",
        "colab_type": "text"
      },
      "cell_type": "markdown",
      "source": [
        "## ライブラリのinstall\n",
        "\n",
        "\n",
        "jupyterでは!をつけるとshのコマンドが実行できます。\n"
      ]
    },
    {
      "metadata": {
        "id": "IpSmObQeD69-",
        "colab_type": "code",
        "colab": {
          "autoexec": {
            "startup": false,
            "wait_interval": 0
          },
          "base_uri": "https://localhost:8080/",
          "height": 307
        },
        "outputId": "19cc1f33-d041-48b5-9826-ffd2b57b3795",
        "executionInfo": {
          "status": "ok",
          "timestamp": 1531828271870,
          "user_tz": -540,
          "elapsed": 31956,
          "user": {
            "displayName": "Rkchif",
            "photoUrl": "//lh5.googleusercontent.com/-sw665pcTTwA/AAAAAAAAAAI/AAAAAAAAAAc/MxYFyjxwaHw/s50-c-k-no/photo.jpg",
            "userId": "105185440725745093679"
          }
        }
      },
      "cell_type": "code",
      "source": [
        "!pip install -q http://download.pytorch.org/whl/cu80/torch-0.3.0.post4-cp36-cp36m-linux_x86_64.whl\n",
        "!pip install torchvision"
      ],
      "execution_count": 2,
      "outputs": [
        {
          "output_type": "stream",
          "text": [
            "Collecting torchvision\n",
            "\u001b[?25l  Downloading https://files.pythonhosted.org/packages/ca/0d/f00b2885711e08bd71242ebe7b96561e6f6d01fdb4b9dcf4d37e2e13c5e1/torchvision-0.2.1-py2.py3-none-any.whl (54kB)\n",
            "\u001b[K    100% |████████████████████████████████| 61kB 3.8MB/s \n",
            "\u001b[?25hRequirement already satisfied: six in /usr/local/lib/python3.6/dist-packages (from torchvision) (1.11.0)\n",
            "Collecting pillow>=4.1.1 (from torchvision)\n",
            "\u001b[?25l  Downloading https://files.pythonhosted.org/packages/d1/24/f53ff6b61b3d728b90934bddb4f03f8ab584a7f49299bf3bde56e2952612/Pillow-5.2.0-cp36-cp36m-manylinux1_x86_64.whl (2.0MB)\n",
            "\u001b[K    100% |████████████████████████████████| 2.0MB 10.6MB/s \n",
            "\u001b[?25hRequirement already satisfied: torch in /usr/local/lib/python3.6/dist-packages (from torchvision) (0.3.0.post4)\n",
            "Requirement already satisfied: numpy in /usr/local/lib/python3.6/dist-packages (from torchvision) (1.14.5)\n",
            "Requirement already satisfied: pyyaml in /usr/local/lib/python3.6/dist-packages (from torch->torchvision) (3.13)\n",
            "Installing collected packages: pillow, torchvision\n",
            "  Found existing installation: Pillow 4.0.0\n",
            "    Uninstalling Pillow-4.0.0:\n",
            "      Successfully uninstalled Pillow-4.0.0\n",
            "Successfully installed pillow-5.2.0 torchvision-0.2.1\n"
          ],
          "name": "stdout"
        }
      ]
    },
    {
      "metadata": {
        "id": "8RBjVysjIr_b",
        "colab_type": "text"
      },
      "cell_type": "markdown",
      "source": [
        "## ライブラリのimport\n",
        "\n",
        "必要なライブラリをimportします。"
      ]
    },
    {
      "metadata": {
        "id": "AVNJyankD1Mi",
        "colab_type": "code",
        "colab": {
          "autoexec": {
            "startup": false,
            "wait_interval": 0
          }
        }
      },
      "cell_type": "code",
      "source": [
        "import torch\n",
        "import torch.nn as nn\n",
        "from torchvision import datasets\n",
        "import torchvision.transforms as transforms\n",
        "from torch.autograd import Variable\n",
        "\n",
        "import matplotlib.pyplot as plt\n",
        "% matplotlib inline"
      ],
      "execution_count": 0,
      "outputs": []
    },
    {
      "metadata": {
        "id": "d7MAUJ7bI3dX",
        "colab_type": "text"
      },
      "cell_type": "markdown",
      "source": [
        "## ハイパーパラメータの設定"
      ]
    },
    {
      "metadata": {
        "id": "Fdwsj1sHEt-L",
        "colab_type": "code",
        "colab": {
          "autoexec": {
            "startup": false,
            "wait_interval": 0
          }
        }
      },
      "cell_type": "code",
      "source": [
        "# Hyper Parameters \n",
        "input_size = 784\n",
        "hidden_size = 500\n",
        "num_classes = 10\n",
        "num_epochs = 5\n",
        "batch_size = 100\n",
        "learning_rate = 0.001"
      ],
      "execution_count": 0,
      "outputs": []
    },
    {
      "metadata": {
        "id": "uA-YZxQhI9fo",
        "colab_type": "text"
      },
      "cell_type": "markdown",
      "source": [
        "## データを取得\n",
        "\n",
        "datasets.MNISTでMNISTをダウンロード\n"
      ]
    },
    {
      "metadata": {
        "id": "170_NFilEPaH",
        "colab_type": "code",
        "colab": {
          "autoexec": {
            "startup": false,
            "wait_interval": 0
          },
          "base_uri": "https://localhost:8080/",
          "height": 125
        },
        "outputId": "2e731c45-f71b-4cda-e7fa-b122cd14b6c7",
        "executionInfo": {
          "status": "ok",
          "timestamp": 1531828283539,
          "user_tz": -540,
          "elapsed": 3188,
          "user": {
            "displayName": "Rkchif",
            "photoUrl": "//lh5.googleusercontent.com/-sw665pcTTwA/AAAAAAAAAAI/AAAAAAAAAAc/MxYFyjxwaHw/s50-c-k-no/photo.jpg",
            "userId": "105185440725745093679"
          }
        }
      },
      "cell_type": "code",
      "source": [
        "# MNIST Dataset \n",
        "train_dataset = datasets.MNIST(root='../data', \n",
        "                            train=True, \n",
        "                            transform=transforms.ToTensor(),  \n",
        "                            download=True)\n",
        "\n",
        "test_dataset = datasets.MNIST(root='../data', \n",
        "                              train=False, \n",
        "                              transform=transforms.ToTensor())"
      ],
      "execution_count": 5,
      "outputs": [
        {
          "output_type": "stream",
          "text": [
            "Downloading http://yann.lecun.com/exdb/mnist/train-images-idx3-ubyte.gz\n",
            "Downloading http://yann.lecun.com/exdb/mnist/train-labels-idx1-ubyte.gz\n",
            "Downloading http://yann.lecun.com/exdb/mnist/t10k-images-idx3-ubyte.gz\n",
            "Downloading http://yann.lecun.com/exdb/mnist/t10k-labels-idx1-ubyte.gz\n",
            "Processing...\n",
            "Done!\n"
          ],
          "name": "stdout"
        }
      ]
    },
    {
      "metadata": {
        "id": "Ifz-w49qMn0S",
        "colab_type": "text"
      },
      "cell_type": "markdown",
      "source": [
        "ここでダウンロードしたMNISTの中身は以下のような手書きの数字データ"
      ]
    },
    {
      "metadata": {
        "id": "HkNQftcIL-8f",
        "colab_type": "code",
        "colab": {
          "autoexec": {
            "startup": false,
            "wait_interval": 0
          },
          "base_uri": "https://localhost:8080/",
          "height": 265
        },
        "outputId": "6adee67f-89c9-4890-913c-19b46cbbfe1a",
        "executionInfo": {
          "status": "ok",
          "timestamp": 1531830275861,
          "user_tz": -540,
          "elapsed": 590,
          "user": {
            "displayName": "Rkchif",
            "photoUrl": "//lh5.googleusercontent.com/-sw665pcTTwA/AAAAAAAAAAI/AAAAAAAAAAc/MxYFyjxwaHw/s50-c-k-no/photo.jpg",
            "userId": "105185440725745093679"
          }
        }
      },
      "cell_type": "code",
      "source": [
        "plt.figure()\n",
        "plt.imshow(train_dataset[10][0][0].numpy())\n",
        "plt.colorbar()\n",
        "plt.gca().grid(False)"
      ],
      "execution_count": 55,
      "outputs": [
        {
          "output_type": "display_data",
          "data": {
            "image/png": "[encoded data removed]",
            "text/plain": [
              "<matplotlib.figure.Figure at 0x7f7f306d75c0>"
            ]
          },
          "metadata": {
            "tags": []
          }
        }
      ]
    },
    {
      "metadata": {
        "id": "GvHRK6MbJbQy",
        "colab_type": "text"
      },
      "cell_type": "markdown",
      "source": [
        "データを学習用にminibatch単位で切り出す準備"
      ]
    },
    {
      "metadata": {
        "id": "E37U9yDIEbc5",
        "colab_type": "code",
        "colab": {
          "autoexec": {
            "startup": false,
            "wait_interval": 0
          }
        }
      },
      "cell_type": "code",
      "source": [
        "# Data Loader (Input Pipeline)\n",
        "train_loader = torch.utils.data.DataLoader(dataset=train_dataset, \n",
        "                                           batch_size=batch_size, \n",
        "                                           shuffle=True)\n",
        "\n",
        "test_loader = torch.utils.data.DataLoader(dataset=test_dataset, \n",
        "                                          batch_size=batch_size, \n",
        "                                          shuffle=False)\n"
      ],
      "execution_count": 0,
      "outputs": []
    },
    {
      "metadata": {
        "id": "Ni5bk9gVJrKj",
        "colab_type": "text"
      },
      "cell_type": "markdown",
      "source": [
        "## 三層のニューラルネットワークのクラスを定義\n"
      ]
    },
    {
      "metadata": {
        "id": "_M_fsPlHEqC1",
        "colab_type": "code",
        "colab": {
          "autoexec": {
            "startup": false,
            "wait_interval": 0
          }
        }
      },
      "cell_type": "code",
      "source": [
        "# Neural Network Model (1 hidden layer)\n",
        "class Net(nn.Module):\n",
        "    def __init__(self, input_size, hidden_size, num_classes):\n",
        "        super().__init__()\n",
        "        self.fc1 = nn.Linear(input_size, hidden_size) \n",
        "        self.relu = nn.ReLU()\n",
        "        self.fc2 = nn.Linear(hidden_size, num_classes)  \n",
        "    \n",
        "    def forward(self, x):\n",
        "        out = self.fc1(x)\n",
        "        out = self.relu(out)\n",
        "        out = self.fc2(out)\n",
        "        return out"
      ],
      "execution_count": 0,
      "outputs": []
    },
    {
      "metadata": {
        "id": "hKyycNuTJ5kV",
        "colab_type": "text"
      },
      "cell_type": "markdown",
      "source": [
        "## ニューラルネットワークのクラスからインスタンスを作成。\n",
        "\n",
        ".cudaメソッドでCUDAで動くように変換"
      ]
    },
    {
      "metadata": {
        "id": "RQ6ht3ycEy5Q",
        "colab_type": "code",
        "colab": {
          "autoexec": {
            "startup": false,
            "wait_interval": 0
          },
          "base_uri": "https://localhost:8080/",
          "height": 107
        },
        "outputId": "53c8bdbd-50d1-44c9-b59d-d5da8e532a40",
        "executionInfo": {
          "status": "ok",
          "timestamp": 1531828288304,
          "user_tz": -540,
          "elapsed": 3008,
          "user": {
            "displayName": "Rkchif",
            "photoUrl": "//lh5.googleusercontent.com/-sw665pcTTwA/AAAAAAAAAAI/AAAAAAAAAAc/MxYFyjxwaHw/s50-c-k-no/photo.jpg",
            "userId": "105185440725745093679"
          }
        }
      },
      "cell_type": "code",
      "source": [
        "net = Net(input_size, hidden_size, num_classes)\n",
        "net.cuda()"
      ],
      "execution_count": 8,
      "outputs": [
        {
          "output_type": "execute_result",
          "data": {
            "text/plain": [
              "Net(\n",
              "  (fc1): Linear(in_features=784, out_features=500)\n",
              "  (relu): ReLU()\n",
              "  (fc2): Linear(in_features=500, out_features=10)\n",
              ")"
            ]
          },
          "metadata": {
            "tags": []
          },
          "execution_count": 8
        }
      ]
    },
    {
      "metadata": {
        "id": "rn8BKwuBJnOJ",
        "colab_type": "text"
      },
      "cell_type": "markdown",
      "source": [
        "## 損失関数・オプティマイザの設定\n",
        "\n",
        "ここでは\n",
        "\n",
        "- 損失関数: クロスエントロピー\n",
        "- オプティマイザ: Adam\n",
        "\n",
        "を使います。\n"
      ]
    },
    {
      "metadata": {
        "id": "Rqd57lKtE5ig",
        "colab_type": "code",
        "colab": {
          "autoexec": {
            "startup": false,
            "wait_interval": 0
          }
        }
      },
      "cell_type": "code",
      "source": [
        "# Loss and Optimizer\n",
        "criterion = nn.CrossEntropyLoss()  \n",
        "optimizer = torch.optim.Adam(net.parameters(), lr=learning_rate)  \n"
      ],
      "execution_count": 0,
      "outputs": []
    },
    {
      "metadata": {
        "id": "UMXh0fOdKdh-",
        "colab_type": "text"
      },
      "cell_type": "markdown",
      "source": [
        "## トレーニング関数\n",
        "\n",
        "num_epochs回学習を繰り返す関数を作ります。\n",
        "\n",
        "netインスタンスに入れるデータも.cudaでGPUで動くように変換することを忘れないでください。\n",
        "\n"
      ]
    },
    {
      "metadata": {
        "id": "lKH5kGjZFCQt",
        "colab_type": "code",
        "colab": {
          "autoexec": {
            "startup": false,
            "wait_interval": 0
          }
        }
      },
      "cell_type": "code",
      "source": [
        "def fit(net, train_loader, num_epochs=num_epochs, t= 200):\n",
        "  # モデルのトレーニング\n",
        "  for epoch in range(num_epochs):\n",
        "      for i, (images, labels) in enumerate(train_loader):  \n",
        "          # pytorchのtensorをVariableに変換\n",
        "          images = Variable(images.view(-1, 28*28)).cuda()\n",
        "          labels = Variable(labels).cuda()\n",
        "\n",
        "          # フォワードプロパゲーション/ バックプロパゲーション/ 最適化\n",
        "          optimizer.zero_grad()  # 勾配を0初期化\n",
        "          outputs = net(images)\n",
        "          loss = criterion(outputs, labels)\n",
        "          loss.backward()\n",
        "          optimizer.step()\n",
        "          \n",
        "          # t回毎にログを表示\n",
        "          if (i+1) % t == 0:\n",
        "              print ('Epoch [%d/%d], Step [%d/%d], Loss: %.4f' \n",
        "                     %(epoch+1, num_epochs, i+1, len(train_dataset)//batch_size, loss.data[0]))\n",
        "  return net"
      ],
      "execution_count": 0,
      "outputs": []
    },
    {
      "metadata": {
        "id": "EEVE_HcpFlou",
        "colab_type": "code",
        "colab": {
          "autoexec": {
            "startup": false,
            "wait_interval": 0
          },
          "base_uri": "https://localhost:8080/",
          "height": 287
        },
        "outputId": "506bae66-7bef-4cad-c3fc-e959daeb8d1e",
        "executionInfo": {
          "status": "ok",
          "timestamp": 1531829224884,
          "user_tz": -540,
          "elapsed": 29730,
          "user": {
            "displayName": "Rkchif",
            "photoUrl": "//lh5.googleusercontent.com/-sw665pcTTwA/AAAAAAAAAAI/AAAAAAAAAAc/MxYFyjxwaHw/s50-c-k-no/photo.jpg",
            "userId": "105185440725745093679"
          }
        }
      },
      "cell_type": "code",
      "source": [
        "net = fit(net, train_loader)"
      ],
      "execution_count": 36,
      "outputs": [
        {
          "output_type": "stream",
          "text": [
            "Epoch [1/5], Step [200/600], Loss: 0.0068\n",
            "Epoch [1/5], Step [400/600], Loss: 0.0024\n",
            "Epoch [1/5], Step [600/600], Loss: 0.0028\n",
            "Epoch [2/5], Step [200/600], Loss: 0.0010\n",
            "Epoch [2/5], Step [400/600], Loss: 0.0770\n",
            "Epoch [2/5], Step [600/600], Loss: 0.0013\n",
            "Epoch [3/5], Step [200/600], Loss: 0.0011\n",
            "Epoch [3/5], Step [400/600], Loss: 0.0017\n",
            "Epoch [3/5], Step [600/600], Loss: 0.0007\n",
            "Epoch [4/5], Step [200/600], Loss: 0.0001\n",
            "Epoch [4/5], Step [400/600], Loss: 0.0003\n",
            "Epoch [4/5], Step [600/600], Loss: 0.0074\n",
            "Epoch [5/5], Step [200/600], Loss: 0.0057\n",
            "Epoch [5/5], Step [400/600], Loss: 0.0028\n",
            "Epoch [5/5], Step [600/600], Loss: 0.0036\n"
          ],
          "name": "stdout"
        }
      ]
    },
    {
      "metadata": {
        "id": "xZCoafuDK220",
        "colab_type": "text"
      },
      "cell_type": "markdown",
      "source": [
        "## テスト関数\n",
        "\n",
        "テストデータを使ったモデルの評価を行う関数を作ります。\n",
        "\n"
      ]
    },
    {
      "metadata": {
        "id": "iAG6MTRdFqHC",
        "colab_type": "code",
        "colab": {
          "autoexec": {
            "startup": false,
            "wait_interval": 0
          }
        }
      },
      "cell_type": "code",
      "source": [
        "def evaluate(net, test_loader=test_loader):\n",
        "  # Test the Model\n",
        "  correct = 0\n",
        "  total = 0\n",
        "  for images, labels in test_loader:\n",
        "      images = Variable(images.view(-1, 28*28)).cuda()\n",
        "      outputs = net(images)\n",
        "      _, predicted = torch.max(outputs.data, 1)\n",
        "      total += labels.size(0)\n",
        "      correct += (predicted.cpu() == labels).sum()\n",
        "\n",
        "  print('Accuracy of the network on the 10000 test images: %d %%' % (100 * correct / total))\n"
      ],
      "execution_count": 0,
      "outputs": []
    },
    {
      "metadata": {
        "id": "q7-VWSzrFyzo",
        "colab_type": "code",
        "colab": {
          "autoexec": {
            "startup": false,
            "wait_interval": 0
          },
          "base_uri": "https://localhost:8080/",
          "height": 35
        },
        "outputId": "320e8341-4a54-4100-c626-63cbc3c9fbcf",
        "executionInfo": {
          "status": "ok",
          "timestamp": 1531829184285,
          "user_tz": -540,
          "elapsed": 1377,
          "user": {
            "displayName": "Rkchif",
            "photoUrl": "//lh5.googleusercontent.com/-sw665pcTTwA/AAAAAAAAAAI/AAAAAAAAAAc/MxYFyjxwaHw/s50-c-k-no/photo.jpg",
            "userId": "105185440725745093679"
          }
        }
      },
      "cell_type": "code",
      "source": [
        "evaluate(net)"
      ],
      "execution_count": 34,
      "outputs": [
        {
          "output_type": "stream",
          "text": [
            "Accuracy of the network on the 10000 test images: 98 %\n"
          ],
          "name": "stdout"
        }
      ]
    },
    {
      "metadata": {
        "id": "BuWi-GIiImEL",
        "colab_type": "code",
        "colab": {
          "autoexec": {
            "startup": false,
            "wait_interval": 0
          }
        }
      },
      "cell_type": "code",
      "source": [
        ""
      ],
      "execution_count": 0,
      "outputs": []
    }
  ]
}