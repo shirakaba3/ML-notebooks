{
 "cells": [
  {
   "cell_type": "markdown",
   "metadata": {},
   "source": [
    "# Pythonを高速化するCythonを試してみよう\n",
    "\n",
    "CythonはPython likeなコードをC/C++に変換、ネイティブコンパイルして高速動作するコンパイラです。  \n",
    "このノートではこのCythonのいくつかの違う設定をした関数と、pure Pythonで実装した関数との速度比較を行います。"
   ]
  },
  {
   "cell_type": "code",
   "execution_count": 1,
   "metadata": {},
   "outputs": [],
   "source": [
    "%load_ext Cython"
   ]
  },
  {
   "cell_type": "markdown",
   "metadata": {},
   "source": [
    "## フィボナッチ数列"
   ]
  },
  {
   "cell_type": "markdown",
   "metadata": {},
   "source": [
    "pure python"
   ]
  },
  {
   "cell_type": "code",
   "execution_count": 2,
   "metadata": {},
   "outputs": [],
   "source": [
    "def fib_python(n):\n",
    "    a, b = 0, 1\n",
    "    for i in range(n):\n",
    "        a, b = a + b, a\n",
    "    return a"
   ]
  },
  {
   "cell_type": "markdown",
   "metadata": {},
   "source": [
    "cython（特に型アノテーションをつけていない状態）"
   ]
  },
  {
   "cell_type": "code",
   "execution_count": 3,
   "metadata": {},
   "outputs": [],
   "source": [
    "%%cython\n",
    "def fib_cython(n):\n",
    "    a, b = 0, 1\n",
    "    for i in range(n):\n",
    "        a, b = a + b, a\n",
    "    return a"
   ]
  },
  {
   "cell_type": "markdown",
   "metadata": {},
   "source": [
    "cython (引数にだけ型アノテーションをつけた状態）"
   ]
  },
  {
   "cell_type": "code",
   "execution_count": 4,
   "metadata": {},
   "outputs": [],
   "source": [
    "%%cython\n",
    "def fib_typed_cython(int n):\n",
    "    a, b = 0, 1\n",
    "    for i in range(n):\n",
    "        a, b = a + b, a\n",
    "    return a"
   ]
  },
  {
   "cell_type": "markdown",
   "metadata": {},
   "source": [
    "cython （関数内で使われている変数にも全て型アノテーションをつけた状態）"
   ]
  },
  {
   "cell_type": "code",
   "execution_count": 5,
   "metadata": {},
   "outputs": [],
   "source": [
    "%%cython\n",
    "def fib_all_typed_cython(int n):\n",
    "    cdef int a,b,i\n",
    "    \n",
    "    a, b = 0, 1\n",
    "    for i in range(n):\n",
    "        a, b = a + b, a\n",
    "    return a"
   ]
  },
  {
   "cell_type": "code",
   "execution_count": 6,
   "metadata": {},
   "outputs": [
    {
     "name": "stdout",
     "output_type": "stream",
     "text": [
      "664 µs ± 85.5 µs per loop (mean ± std. dev. of 7 runs, 1000 loops each)\n",
      "415 µs ± 19.6 µs per loop (mean ± std. dev. of 7 runs, 1000 loops each)\n",
      "346 µs ± 5.8 µs per loop (mean ± std. dev. of 7 runs, 1000 loops each)\n",
      "2.01 µs ± 235 ns per loop (mean ± std. dev. of 7 runs, 1000000 loops each)\n"
     ]
    }
   ],
   "source": [
    "%timeit fib_python(5000)\n",
    "%timeit fib_cython(5000)\n",
    "%timeit fib_typed_cython(5000)\n",
    "%timeit fib_all_typed_cython(5000)"
   ]
  },
  {
   "cell_type": "markdown",
   "metadata": {},
   "source": [
    "型付けをたくさん行った方が断然速くなる事がわかります。  \n",
    "特に最後の関数は桁違いの速度が出ています。\n",
    "\n",
    "ですが引数のみに型アノテーションをつけた状態でも、素のPythonよりはかなり速いですし、cdefを使った型付けを大変だと思う人もいるかも知れません。  \n",
    "Cythonらしい書き方をしていくと、Pythonらしさが無くなっていく感じがあります。  \n",
    "書きやすさと速度がトレードオフになる感じですね。  "
   ]
  },
  {
   "cell_type": "markdown",
   "metadata": {},
   "source": [
    "## ユークリッドの互除法（再帰関数版）\n",
    "最大公約数を求めるアルゴリズムです。\n",
    "\n"
   ]
  },
  {
   "cell_type": "code",
   "execution_count": 7,
   "metadata": {},
   "outputs": [],
   "source": [
    "def gcd_python(x, y):\n",
    "    if y == 0:\n",
    "        return x\n",
    "    else:\n",
    "        return gcd_python(y, x % y)"
   ]
  },
  {
   "cell_type": "code",
   "execution_count": 8,
   "metadata": {},
   "outputs": [],
   "source": [
    "%%cython\n",
    "\n",
    "def gcd_cython(x, y):\n",
    "    if y == 0:\n",
    "        return x\n",
    "    else:\n",
    "        return gcd_cython(y, x % y)"
   ]
  },
  {
   "cell_type": "code",
   "execution_count": 9,
   "metadata": {},
   "outputs": [],
   "source": [
    "%%cython\n",
    "\n",
    "def gcd_typed_cython(int x, int y):\n",
    "    if y == 0:\n",
    "        return x\n",
    "    else:\n",
    "        return gcd_typed_cython(y, x % y)"
   ]
  },
  {
   "cell_type": "code",
   "execution_count": 10,
   "metadata": {},
   "outputs": [
    {
     "name": "stdout",
     "output_type": "stream",
     "text": [
      "785 ns ± 154 ns per loop (mean ± std. dev. of 7 runs, 1000000 loops each)\n",
      "445 ns ± 27.3 ns per loop (mean ± std. dev. of 7 runs, 1000000 loops each)\n",
      "396 ns ± 38.6 ns per loop (mean ± std. dev. of 7 runs, 1000000 loops each)\n"
     ]
    }
   ],
   "source": [
    "%timeit gcd_python(10000,325)\n",
    "%timeit gcd_cython(10000,325)\n",
    "%timeit gcd_typed_cython(10000,325)"
   ]
  },
  {
   "cell_type": "markdown",
   "metadata": {},
   "source": [
    "こちらも順当に高速化できています。  \n",
    "ただしここまで試して、再帰関数と普通のループだとどちらが速いのか気になりました。\n",
    "\n",
    "普通のwhile文で書き直したバージョンも試してみます。"
   ]
  },
  {
   "cell_type": "markdown",
   "metadata": {},
   "source": [
    "## ユークリッドの互除法（普通のwhile版）"
   ]
  },
  {
   "cell_type": "code",
   "execution_count": 11,
   "metadata": {},
   "outputs": [],
   "source": [
    "def gcd_python2(x,y):\n",
    "    while y!=0:\n",
    "        x, y = y, x% y\n",
    "    return x"
   ]
  },
  {
   "cell_type": "code",
   "execution_count": 12,
   "metadata": {},
   "outputs": [],
   "source": [
    "%%cython\n",
    "def gcd_cython2(x,y):\n",
    "    while y!=0:\n",
    "        x, y = y, x% y\n",
    "    return x"
   ]
  },
  {
   "cell_type": "code",
   "execution_count": 13,
   "metadata": {},
   "outputs": [],
   "source": [
    "%%cython\n",
    "def gcd_typed_cython2(int x,int y):\n",
    "    while y!=0:\n",
    "        x, y = y, x% y\n",
    "    return x"
   ]
  },
  {
   "cell_type": "code",
   "execution_count": 14,
   "metadata": {},
   "outputs": [
    {
     "name": "stdout",
     "output_type": "stream",
     "text": [
      "340 ns ± 7.31 ns per loop (mean ± std. dev. of 7 runs, 1000000 loops each)\n",
      "221 ns ± 20.7 ns per loop (mean ± std. dev. of 7 runs, 1000000 loops each)\n",
      "161 ns ± 33.8 ns per loop (mean ± std. dev. of 7 runs, 10000000 loops each)\n"
     ]
    }
   ],
   "source": [
    "%timeit gcd_python2(10000,325)\n",
    "%timeit gcd_cython2(10000,325)\n",
    "%timeit gcd_typed_cython2(10000,325)"
   ]
  },
  {
   "cell_type": "markdown",
   "metadata": {},
   "source": [
    "順当に高速化できています。  \n",
    "pure pythonの時点で再帰関数版よりも2倍速いです。  \n",
    "cython版は、１番最適化を行ったものが１番伸び率が大きいですね。  \n",
    "\n",
    "再帰関数は書きやすいですが、Python/Cythonで速度を気にする場合はやめたほうが良いかも知れませんね。"
   ]
  },
  {
   "cell_type": "code",
   "execution_count": null,
   "metadata": {},
   "outputs": [],
   "source": []
  }
 ],
 "metadata": {
  "kernelspec": {
   "display_name": "Python 3",
   "language": "python",
   "name": "python3"
  },
  "language_info": {
   "codemirror_mode": {
    "name": "ipython",
    "version": 3
   },
   "file_extension": ".py",
   "mimetype": "text/x-python",
   "name": "python",
   "nbconvert_exporter": "python",
   "pygments_lexer": "ipython3",
   "version": "3.6.5"
  }
 },
 "nbformat": 4,
 "nbformat_minor": 2
}
